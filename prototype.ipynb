{
 "cells": [
  {
   "cell_type": "markdown",
   "metadata": {},
   "source": [
    "# Create a map of memphis "
   ]
  },
  {
   "cell_type": "code",
   "execution_count": 82,
   "metadata": {
    "scrolled": true
   },
   "outputs": [
    {
     "data": {
      "application/vnd.jupyter.widget-view+json": {
       "model_id": "afec65cd216a43338562b6d919e9ad1a",
       "version_major": 2,
       "version_minor": 0
      },
      "text/html": [
       "<p>Failed to display Jupyter Widget of type <code>Map</code>.</p>\n",
       "<p>\n",
       "  If you're reading this message in the Jupyter Notebook or JupyterLab Notebook, it may mean\n",
       "  that the widgets JavaScript is still loading. If this message persists, it\n",
       "  likely means that the widgets JavaScript library is either not installed or\n",
       "  not enabled. See the <a href=\"https://ipywidgets.readthedocs.io/en/stable/user_install.html\">Jupyter\n",
       "  Widgets Documentation</a> for setup instructions.\n",
       "</p>\n",
       "<p>\n",
       "  If you're reading this message in another frontend (for example, a static\n",
       "  rendering on GitHub or <a href=\"https://nbviewer.jupyter.org/\">NBViewer</a>),\n",
       "  it may mean that your frontend doesn't currently support widgets.\n",
       "</p>\n"
      ],
      "text/plain": [
       "Map(center=[35.1175, -89.971107], controls=(ZoomControl(options=['position', 'zoom_in_text', 'zoom_in_title', 'zoom_out_text', 'zoom_out_title']), AttributionControl(options=['position', 'prefix'], position='bottomright')), crs={'name': 'EPSG3857', 'custom': False}, default_style=MapStyle(), dragging_style=MapStyle(cursor='move'), layers=(TileLayer(base=True, max_zoom=19, min_zoom=1, name='OpenStreetMap.Mapnik', options=['attribution', 'detect_retina', 'max_native_zoom', 'max_zoom', 'min_native_zoom', 'min_zoom', 'no_wrap', 'tile_size', 'tms']),), options=['bounce_at_zoom_limits', 'box_zoom', 'center', 'close_popup_on_click', 'double_click_zoom', 'dragging', 'fullscreen', 'inertia', 'inertia_deceleration', 'inertia_max_speed', 'interpolation', 'keyboard', 'keyboard_pan_offset', 'keyboard_zoom_offset', 'max_zoom', 'min_zoom', 'scroll_wheel_zoom', 'tap', 'tap_tolerance', 'touch_zoom', 'world_copy_jump', 'zoom', 'zoom_animation_threshold', 'zoom_delta', 'zoom_snap', 'zoom_start'], style=MapStyle(), zoom=9.0)"
      ]
     },
     "metadata": {},
     "output_type": "display_data"
    }
   ],
   "source": [
    "from ipyleaflet import *\n",
    "\n",
    "memphis_coordinates = (35.117500, -89.971107)\n",
    "\n",
    "m = Map(\n",
    "    basemap=basemap_to_tiles(basemaps.OpenStreetMap.Mapnik),\n",
    "    center=memphis_coordinates,\n",
    "    zoom=9)\n",
    "m"
   ]
  },
  {
   "cell_type": "code",
   "execution_count": null,
   "metadata": {},
   "outputs": [],
   "source": []
  },
  {
   "cell_type": "markdown",
   "metadata": {},
   "source": [
    "# Create a database of properties\n",
    "- Import data from tax site\n",
    "- Clean-up if necessary\n",
    "- Convert into database"
   ]
  },
  {
   "cell_type": "code",
   "execution_count": 57,
   "metadata": {},
   "outputs": [
    {
     "ename": "SyntaxError",
     "evalue": "invalid syntax (<ipython-input-57-bffa1555449d>, line 4)",
     "output_type": "error",
     "traceback": [
      "\u001b[0;36m  File \u001b[0;32m\"<ipython-input-57-bffa1555449d>\"\u001b[0;36m, line \u001b[0;32m4\u001b[0m\n\u001b[0;31m    %%sql\u001b[0m\n\u001b[0m    ^\u001b[0m\n\u001b[0;31mSyntaxError\u001b[0m\u001b[0;31m:\u001b[0m invalid syntax\n"
     ]
    }
   ],
   "source": [
    "import sqlalchemy\n",
    "%load_ext sql\n"
   ]
  },
  {
   "cell_type": "code",
   "execution_count": 70,
   "metadata": {},
   "outputs": [
    {
     "name": "stdout",
     "output_type": "stream",
     "text": [
      " * sqlite://\n",
      "Done.\n"
     ]
    },
    {
     "data": {
      "text/plain": [
       "[]"
      ]
     },
     "execution_count": 70,
     "metadata": {},
     "output_type": "execute_result"
    }
   ],
   "source": [
    "%%sql\n",
    "\n",
    "CREATE TABLE properties(address VARCHAR(20) UNIQUE, \n",
    "                        zipcode SMALLINT, \n",
    "                        width SMALLINT, depth SMALLINT, \n",
    "                        acres FLOAT(10),\n",
    "                        cost FLOAT(12));"
   ]
  },
  {
   "cell_type": "code",
   "execution_count": 69,
   "metadata": {},
   "outputs": [
    {
     "name": "stdout",
     "output_type": "stream",
     "text": [
      " * sqlite://\n",
      "Done.\n"
     ]
    },
    {
     "data": {
      "text/plain": [
       "[]"
      ]
     },
     "execution_count": 69,
     "metadata": {},
     "output_type": "execute_result"
    }
   ],
   "source": [
    "%%sql\n",
    "DROP TABLE properties"
   ]
  },
  {
   "cell_type": "code",
   "execution_count": null,
   "metadata": {},
   "outputs": [],
   "source": []
  },
  {
   "cell_type": "code",
   "execution_count": 81,
   "metadata": {
    "scrolled": false
   },
   "outputs": [
    {
     "name": "stdout",
     "output_type": "stream",
     "text": [
      " * sqlite://\n",
      "Done.\n"
     ]
    },
    {
     "data": {
      "text/html": [
       "<table>\n",
       "    <tr>\n",
       "        <th>address</th>\n",
       "    </tr>\n",
       "    <tr>\n",
       "        <td>1009 ROSEWOOD</td>\n",
       "    </tr>\n",
       "    <tr>\n",
       "        <td>1035 ROSEWOOD</td>\n",
       "    </tr>\n",
       "    <tr>\n",
       "        <td>1036 ROZELLE</td>\n",
       "    </tr>\n",
       "    <tr>\n",
       "        <td>107 W DISON</td>\n",
       "    </tr>\n",
       "    <tr>\n",
       "        <td>1112 RYDER</td>\n",
       "    </tr>\n",
       "    <tr>\n",
       "        <td>1198 LATHAM</td>\n",
       "    </tr>\n",
       "    <tr>\n",
       "        <td>1229 WILSON</td>\n",
       "    </tr>\n",
       "    <tr>\n",
       "        <td>1255 WILLIE MITCHELL</td>\n",
       "    </tr>\n",
       "    <tr>\n",
       "        <td>1306 N MCNEIL</td>\n",
       "    </tr>\n",
       "    <tr>\n",
       "        <td>1311 LATHAM</td>\n",
       "    </tr>\n",
       "    <tr>\n",
       "        <td>1414 LEFLORE</td>\n",
       "    </tr>\n",
       "    <tr>\n",
       "        <td>1488 TAYNER</td>\n",
       "    </tr>\n",
       "    <tr>\n",
       "        <td>1490 HARLEM</td>\n",
       "    </tr>\n",
       "    <tr>\n",
       "        <td>1500 S WILLETT</td>\n",
       "    </tr>\n",
       "    <tr>\n",
       "        <td>1510 HUMBER</td>\n",
       "    </tr>\n",
       "    <tr>\n",
       "        <td>1545 SOUTHERN</td>\n",
       "    </tr>\n",
       "    <tr>\n",
       "        <td>156 MAJUBA</td>\n",
       "    </tr>\n",
       "    <tr>\n",
       "        <td>1570 BALTIMORE</td>\n",
       "    </tr>\n",
       "    <tr>\n",
       "        <td>1589 MISSISSIPPI</td>\n",
       "    </tr>\n",
       "    <tr>\n",
       "        <td>1595 MILLER</td>\n",
       "    </tr>\n",
       "    <tr>\n",
       "        <td>1640 S LAUDERDALE</td>\n",
       "    </tr>\n",
       "    <tr>\n",
       "        <td>1681 OAKWOOD</td>\n",
       "    </tr>\n",
       "    <tr>\n",
       "        <td>170 MAJUBA</td>\n",
       "    </tr>\n",
       "    <tr>\n",
       "        <td>1717 SHADOWLAWN</td>\n",
       "    </tr>\n",
       "    <tr>\n",
       "        <td>1739 S FARRINGTON</td>\n",
       "    </tr>\n",
       "    <tr>\n",
       "        <td>1772 BENNING</td>\n",
       "    </tr>\n",
       "    <tr>\n",
       "        <td>1867 FARRINGTON</td>\n",
       "    </tr>\n",
       "    <tr>\n",
       "        <td>1903 FARRINGTON</td>\n",
       "    </tr>\n",
       "    <tr>\n",
       "        <td>2006 SWIFT</td>\n",
       "    </tr>\n",
       "    <tr>\n",
       "        <td>2295 POE</td>\n",
       "    </tr>\n",
       "    <tr>\n",
       "        <td>2325 ELDRIDGE</td>\n",
       "    </tr>\n",
       "    <tr>\n",
       "        <td>2339 HUNTER</td>\n",
       "    </tr>\n",
       "    <tr>\n",
       "        <td>2352 DEXTER</td>\n",
       "    </tr>\n",
       "    <tr>\n",
       "        <td>2357 HUNTER</td>\n",
       "    </tr>\n",
       "    <tr>\n",
       "        <td>2384 ARLINGTON</td>\n",
       "    </tr>\n",
       "    <tr>\n",
       "        <td>2396 HUBBARD</td>\n",
       "    </tr>\n",
       "    <tr>\n",
       "        <td>240 E TRIGG</td>\n",
       "    </tr>\n",
       "    <tr>\n",
       "        <td>2438 DOUGLASS</td>\n",
       "    </tr>\n",
       "    <tr>\n",
       "        <td>2483 HANWOOD</td>\n",
       "    </tr>\n",
       "    <tr>\n",
       "        <td>2555 KIMBALL</td>\n",
       "    </tr>\n",
       "    <tr>\n",
       "        <td>2615 KIMBALL</td>\n",
       "    </tr>\n",
       "    <tr>\n",
       "        <td>304 E WALDORF</td>\n",
       "    </tr>\n",
       "    <tr>\n",
       "        <td>3076 SHANNON</td>\n",
       "    </tr>\n",
       "    <tr>\n",
       "        <td>3209 COLEMAN</td>\n",
       "    </tr>\n",
       "    <tr>\n",
       "        <td>321 JOUBERT</td>\n",
       "    </tr>\n",
       "    <tr>\n",
       "        <td>3215 GUERNSEY</td>\n",
       "    </tr>\n",
       "    <tr>\n",
       "        <td>393 LUCY</td>\n",
       "    </tr>\n",
       "    <tr>\n",
       "        <td>41 W FAY</td>\n",
       "    </tr>\n",
       "    <tr>\n",
       "        <td>440 SHAWNEE</td>\n",
       "    </tr>\n",
       "    <tr>\n",
       "        <td>488 LONGVIEW</td>\n",
       "    </tr>\n",
       "    <tr>\n",
       "        <td>657 ALSTON</td>\n",
       "    </tr>\n",
       "    <tr>\n",
       "        <td>690 ALSTON</td>\n",
       "    </tr>\n",
       "    <tr>\n",
       "        <td>696 E BODLEY</td>\n",
       "    </tr>\n",
       "    <tr>\n",
       "        <td>727 E TRIGG</td>\n",
       "    </tr>\n",
       "    <tr>\n",
       "        <td>748 ROANOKE</td>\n",
       "    </tr>\n",
       "    <tr>\n",
       "        <td>765 GRAND</td>\n",
       "    </tr>\n",
       "    <tr>\n",
       "        <td>790 JOSEPHINE</td>\n",
       "    </tr>\n",
       "    <tr>\n",
       "        <td>804 S LAUDERDALE</td>\n",
       "    </tr>\n",
       "    <tr>\n",
       "        <td>814 N HOLMES</td>\n",
       "    </tr>\n",
       "    <tr>\n",
       "        <td>894 TAMPA</td>\n",
       "    </tr>\n",
       "    <tr>\n",
       "        <td>924 PEARCE</td>\n",
       "    </tr>\n",
       "    <tr>\n",
       "        <td>96 E MALLORY</td>\n",
       "    </tr>\n",
       "</table>"
      ],
      "text/plain": [
       "[('1009 ROSEWOOD',),\n",
       " ('1035 ROSEWOOD',),\n",
       " ('1036 ROZELLE',),\n",
       " ('107 W DISON',),\n",
       " ('1112 RYDER',),\n",
       " ('1198 LATHAM',),\n",
       " ('1229 WILSON',),\n",
       " ('1255 WILLIE MITCHELL',),\n",
       " ('1306 N MCNEIL',),\n",
       " ('1311 LATHAM',),\n",
       " ('1414 LEFLORE',),\n",
       " ('1488 TAYNER',),\n",
       " ('1490 HARLEM',),\n",
       " ('1500 S WILLETT',),\n",
       " ('1510 HUMBER',),\n",
       " ('1545 SOUTHERN',),\n",
       " ('156 MAJUBA',),\n",
       " ('1570 BALTIMORE',),\n",
       " ('1589 MISSISSIPPI',),\n",
       " ('1595 MILLER',),\n",
       " ('1640 S LAUDERDALE',),\n",
       " ('1681 OAKWOOD',),\n",
       " ('170 MAJUBA',),\n",
       " ('1717 SHADOWLAWN',),\n",
       " ('1739 S FARRINGTON',),\n",
       " ('1772 BENNING',),\n",
       " ('1867 FARRINGTON',),\n",
       " ('1903 FARRINGTON',),\n",
       " ('2006 SWIFT',),\n",
       " ('2295 POE',),\n",
       " ('2325 ELDRIDGE',),\n",
       " ('2339 HUNTER',),\n",
       " ('2352 DEXTER',),\n",
       " ('2357 HUNTER',),\n",
       " ('2384 ARLINGTON',),\n",
       " ('2396 HUBBARD',),\n",
       " ('240 E TRIGG',),\n",
       " ('2438 DOUGLASS',),\n",
       " ('2483 HANWOOD',),\n",
       " ('2555 KIMBALL',),\n",
       " ('2615 KIMBALL',),\n",
       " ('304 E WALDORF',),\n",
       " ('3076 SHANNON',),\n",
       " ('3209 COLEMAN',),\n",
       " ('321 JOUBERT',),\n",
       " ('3215 GUERNSEY',),\n",
       " ('393 LUCY',),\n",
       " ('41 W FAY',),\n",
       " ('440 SHAWNEE',),\n",
       " ('488 LONGVIEW',),\n",
       " ('657 ALSTON',),\n",
       " ('690 ALSTON',),\n",
       " ('696 E BODLEY',),\n",
       " ('727 E TRIGG',),\n",
       " ('748 ROANOKE',),\n",
       " ('765 GRAND',),\n",
       " ('790 JOSEPHINE',),\n",
       " ('804 S LAUDERDALE',),\n",
       " ('814 N HOLMES',),\n",
       " ('894 TAMPA',),\n",
       " ('924 PEARCE',),\n",
       " ('96 E MALLORY',)]"
      ]
     },
     "execution_count": 81,
     "metadata": {},
     "output_type": "execute_result"
    }
   ],
   "source": [
    "%%sql\n",
    "\n",
    "select address from properties"
   ]
  },
  {
   "cell_type": "code",
   "execution_count": 79,
   "metadata": {},
   "outputs": [
    {
     "name": "stdout",
     "output_type": "stream",
     "text": [
      " * sqlite://\n",
      "1 rows affected.\n",
      "1 rows affected.\n",
      "1 rows affected.\n",
      "1 rows affected.\n",
      "1 rows affected.\n",
      "1 rows affected.\n",
      "1 rows affected.\n",
      "1 rows affected.\n",
      "1 rows affected.\n",
      "1 rows affected.\n",
      "1 rows affected.\n",
      "1 rows affected.\n",
      "1 rows affected.\n",
      "1 rows affected.\n",
      "1 rows affected.\n",
      "1 rows affected.\n",
      "1 rows affected.\n",
      "1 rows affected.\n",
      "1 rows affected.\n",
      "1 rows affected.\n",
      "1 rows affected.\n",
      "1 rows affected.\n",
      "1 rows affected.\n",
      "1 rows affected.\n",
      "1 rows affected.\n",
      "1 rows affected.\n",
      "1 rows affected.\n",
      "1 rows affected.\n",
      "1 rows affected.\n",
      "1 rows affected.\n",
      "1 rows affected.\n",
      "1 rows affected.\n",
      "1 rows affected.\n",
      "1 rows affected.\n",
      "1 rows affected.\n",
      "1 rows affected.\n",
      "1 rows affected.\n",
      "1 rows affected.\n",
      "1 rows affected.\n",
      "1 rows affected.\n",
      "1 rows affected.\n",
      "1 rows affected.\n",
      "1 rows affected.\n",
      "1 rows affected.\n",
      "1 rows affected.\n",
      "1 rows affected.\n",
      "1 rows affected.\n",
      "1 rows affected.\n",
      "1 rows affected.\n",
      "1 rows affected.\n",
      "1 rows affected.\n"
     ]
    },
    {
     "data": {
      "text/plain": [
       "[]"
      ]
     },
     "execution_count": 79,
     "metadata": {},
     "output_type": "execute_result"
    }
   ],
   "source": [
    "%%sql \n",
    "\n",
    "INSERT INTO properties VALUES('1112 RYDER', 38106, 50, 174, 0.199, 60100.00);\n",
    "INSERT INTO properties VALUES('1229 WILSON', 38106, 50, 156, 0.179, 22300.00);\n",
    "INSERT INTO properties VALUES('924 PEARCE', 38107, 33, 200, 0.206, 4500.00);\n",
    "INSERT INTO properties VALUES('2438 DOUGLASS', 38114, 100, 104, 0.360, 20900.00);\n",
    "INSERT INTO properties VALUES('765 GRAND', 38114, 35, 85, 0.099, 8800.00);\n",
    "INSERT INTO properties VALUES('790 JOSEPHINE', 38114, 60, 100, 0.186, 31500.00);\n",
    "INSERT INTO properties VALUES('1545 SOUTHERN', 38106, 50, 136, 0.229, 49000.00);\n",
    "INSERT INTO properties VALUES('1036 ROZELLE', 38114, 50, 159, 0.285, 35400.00);\n",
    "INSERT INTO properties VALUES('1490 HARLEM', 38114, 75, 140, 0.358, 31400.00);\n",
    "INSERT INTO properties VALUES('304 E WALDORF', 38106, 46, 145, 0.399, 34100.00);\n",
    "INSERT INTO properties VALUES('1510 HUMBER', 38106, 50, 165, 0.235, 29200.00);\n",
    "INSERT INTO properties VALUES('1640 S LAUDERDALE', 38106, 50, 80, 0.137, 18100.00);\n",
    "INSERT INTO properties VALUES('1595 MILLER', 38106, 38, 80, 0.113, 14300.00);\n",
    "INSERT INTO properties VALUES('1009 ROSEWOOD', 38106, 50, 140, 0.226, 27000.00);\n",
    "INSERT INTO properties VALUES('1035 ROSEWOOD', 38106, 50, 140, 0.228, 39000.00);\n",
    "INSERT INTO properties VALUES('894 TAMPA', 38106, 50, 252, 0.408, 26900.00);\n",
    "INSERT INTO properties VALUES('1589 MISSISSIPPI', 38106, 53, 96, 0.192, 34700.00);\n",
    "INSERT INTO properties VALUES('1739 S FARRINGTON', 38109, 50, 108, 0.183, 29200.00);\n",
    "INSERT INTO properties VALUES('1867 FARRINGTON', 38109, 50, 108, 0.182, 26800.00);\n",
    "INSERT INTO properties VALUES('1903 FARRINGTON', 38109, 50, 108, 0.190, 37500.00);\n",
    "INSERT INTO properties VALUES('156 MAJUBA', 38109, 50, 100, 0.181, 18200.00);\n",
    "INSERT INTO properties VALUES('170 MAJUBA', 38109, 50, 100, 0.191, 28600.00);\n",
    "INSERT INTO properties VALUES('107 W DISON', 38109, 45, 100, 0.151, 6800.00);\n",
    "INSERT INTO properties VALUES('41 W FAY', 38109, 40, 0, 0.109, 23100.00);\n",
    "INSERT INTO properties VALUES('3215 GUERNSEY', 38112, 59, 130, 0.276, 22900.00);\n",
    "INSERT INTO properties VALUES('3209 COLEMAN', 38112, 59, 132, 0.177, 30500.00);\n",
    "INSERT INTO properties VALUES('814 N HOLMES', 38122, 50, 100, 0.114, 24600.00);\n",
    "INSERT INTO properties VALUES('1306 N MCNEIL', 38108, 47, 100, 0.150, 24600.00);\n",
    "INSERT INTO properties VALUES('1681 OAKWOOD', 38108, 50, 150, 0.267, 16500.00);\n",
    "INSERT INTO properties VALUES('2396 HUBBARD', 38108, 40, 120, 0.166, 28300.00);\n",
    "INSERT INTO properties VALUES('2325 ELDRIDGE', 38108, 40, 135, 0.185, 19900.00);\n",
    "INSERT INTO properties VALUES('2339 HUNTER', 38108, 40, 110, 0.156, 21800.00);\n",
    "INSERT INTO properties VALUES('2357 HUNTER', 38108, 40, 110, 0.150, 38100.00);\n",
    "INSERT INTO properties VALUES('2352 DEXTER', 38108, 40, 110, 0.156, 16600.00);\n",
    "INSERT INTO properties VALUES('2483 HANWOOD', 38108, 50, 150, 0.261, 18900.00);\n",
    "INSERT INTO properties VALUES('3076 SHANNON', 38108, 40, 125, 0.114, 9600.00);\n",
    "INSERT INTO properties VALUES('1488 TAYNER', 38108, 106, 0, 0.369, 59000.00);\n",
    "INSERT INTO properties VALUES('2295 POE', 38114, 50, 135, 0.248, 36700.00);\n",
    "INSERT INTO properties VALUES('2555 KIMBALL', 38114, 50, 153, 0.287, 43100.00);\n",
    "INSERT INTO properties VALUES('2615 KIMBALL', 38114, 55, 154, 0.314, 42100.00);\n",
    "INSERT INTO properties VALUES('2384 ARLINGTON', 38114, 50, 154, 0.275, 51300.00);\n",
    "INSERT INTO properties VALUES('1570 BALTIMORE', 38114, 60, 177, 0.375, 55400.00);\n",
    "INSERT INTO properties VALUES('1500 S WILLETT', 38106, 50, 120, 0.187, 51500.00);\n",
    "INSERT INTO properties VALUES('488 LONGVIEW', 38106, 100, 150, 0.517, 43400.00);\n",
    "INSERT INTO properties VALUES('1717 SHADOWLAWN', 38106, 61, 140, 0.313, 32100.00);\n",
    "INSERT INTO properties VALUES('440 SHAWNEE', 38106, 104, 127, 0.415, 29900.00);\n",
    "INSERT INTO properties VALUES('1772 BENNING', 38106, 57, 159, 0.252, 34000.00);\n",
    "INSERT INTO properties VALUES('696 E BODLEY', 38106, 50, 100, 0.177, 39200.00);\n",
    "INSERT INTO properties VALUES('321 JOUBERT', 38109, 53, 108, 0.221, 34000.00);\n",
    "INSERT INTO properties VALUES('2006 SWIFT', 38109, 50, 103, 0.197, 23700.00);\n",
    "INSERT INTO properties VALUES('96 E MALLORY', 38109, 50, 150, 0.242, 27600.00);"
   ]
  },
  {
   "cell_type": "markdown",
   "metadata": {},
   "source": [
    "# Organize properties by street, price, lot size, lot:price "
   ]
  },
  {
   "cell_type": "code",
   "execution_count": null,
   "metadata": {},
   "outputs": [],
   "source": []
  },
  {
   "cell_type": "markdown",
   "metadata": {},
   "source": [
    "# Map properties\n",
    "- Convert property address to respective coordinates\n",
    "- Map coordinates as layers"
   ]
  },
  {
   "cell_type": "code",
   "execution_count": 53,
   "metadata": {},
   "outputs": [
    {
     "data": {
      "application/vnd.jupyter.widget-view+json": {
       "model_id": "00b87687e9904a999e8d92a3cbfb119f",
       "version_major": 2,
       "version_minor": 0
      },
      "text/html": [
       "<p>Failed to display Jupyter Widget of type <code>Map</code>.</p>\n",
       "<p>\n",
       "  If you're reading this message in the Jupyter Notebook or JupyterLab Notebook, it may mean\n",
       "  that the widgets JavaScript is still loading. If this message persists, it\n",
       "  likely means that the widgets JavaScript library is either not installed or\n",
       "  not enabled. See the <a href=\"https://ipywidgets.readthedocs.io/en/stable/user_install.html\">Jupyter\n",
       "  Widgets Documentation</a> for setup instructions.\n",
       "</p>\n",
       "<p>\n",
       "  If you're reading this message in another frontend (for example, a static\n",
       "  rendering on GitHub or <a href=\"https://nbviewer.jupyter.org/\">NBViewer</a>),\n",
       "  it may mean that your frontend doesn't currently support widgets.\n",
       "</p>\n"
      ],
      "text/plain": [
       "Map(bottom=52065.0, center=[35.1175, -89.971107], controls=(ZoomControl(options=['position', 'zoom_in_text', 'zoom_in_title', 'zoom_out_text', 'zoom_out_title']), AttributionControl(options=['position', 'prefix'], position='bottomright')), crs={'name': 'EPSG3857', 'custom': False}, default_style=MapStyle(), dragging_style=MapStyle(cursor='move'), east=-88.63769531250001, layers=(TileLayer(base=True, max_zoom=19, min_zoom=1, name='OpenStreetMap.Mapnik', options=['attribution', 'detect_retina', 'max_native_zoom', 'max_zoom', 'min_native_zoom', 'min_zoom', 'no_wrap', 'tile_size', 'tms']), Marker(location=[52, 2], name='sample_house', options=['alt', 'draggable', 'keyboard', 'rise_offset', 'rise_on_hover', 'rotation_angle', 'rotation_origin', 'title', 'z_index_offset']), Marker(location=[52, 2], name='sample_house', options=['alt', 'draggable', 'keyboard', 'rise_offset', 'rise_on_hover', 'rotation_angle', 'rotation_origin', 'title', 'z_index_offset']), Marker(location=[52, 2], name='sample_house', options=['alt', 'draggable', 'keyboard', 'rise_offset', 'rise_on_hover', 'rotation_angle', 'rotation_origin', 'title', 'z_index_offset']), Marker(location=[35.019032, -90.076683], name='sample_house', options=['alt', 'draggable', 'keyboard', 'rise_offset', 'rise_on_hover', 'rotation_angle', 'rotation_origin', 'title', 'z_index_offset']), Marker(location=[35.019032, -90.076683], name='sample_house', options=['alt', 'draggable', 'keyboard', 'rise_offset', 'rise_on_hover', 'rotation_angle', 'rotation_origin', 'title', 'z_index_offset'])), left=32294.0, north=35.56574628576276, options=['bounce_at_zoom_limits', 'box_zoom', 'center', 'close_popup_on_click', 'double_click_zoom', 'dragging', 'fullscreen', 'inertia', 'inertia_deceleration', 'inertia_max_speed', 'interpolation', 'keyboard', 'keyboard_pan_offset', 'keyboard_zoom_offset', 'max_zoom', 'min_zoom', 'scroll_wheel_zoom', 'tap', 'tap_tolerance', 'touch_zoom', 'world_copy_jump', 'zoom', 'zoom_animation_threshold', 'zoom_delta', 'zoom_snap', 'zoom_start'], right=33264.0, south=34.66709959253007, style=MapStyle(), top=51665.0, west=-91.30187988281251, window_url='http://localhost:8888/notebooks/projects/tax%20properties/prototype.ipynb#Map-properties', zoom=9.0)"
      ]
     },
     "metadata": {},
     "output_type": "display_data"
    }
   ],
   "source": [
    "sample_house = (35.019032, -90.076683)\n",
    "marker1 = Marker(name='sample_house', location=sample_house)\n",
    "m.add_layer(marker1)\n",
    "\n",
    "m"
   ]
  }
 ],
 "metadata": {
  "kernelspec": {
   "display_name": "Python 3",
   "language": "python",
   "name": "python3"
  },
  "language_info": {
   "codemirror_mode": {
    "name": "ipython",
    "version": 3
   },
   "file_extension": ".py",
   "mimetype": "text/x-python",
   "name": "python",
   "nbconvert_exporter": "python",
   "pygments_lexer": "ipython3",
   "version": "3.6.4"
  }
 },
 "nbformat": 4,
 "nbformat_minor": 2
}
